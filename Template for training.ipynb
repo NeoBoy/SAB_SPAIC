{
 "cells": [
  {
   "cell_type": "markdown",
   "metadata": {},
   "source": [
    "### Importing Necessary Base Libraries"
   ]
  },
  {
   "cell_type": "code",
   "execution_count": 1,
   "metadata": {
    "cell_style": "center"
   },
   "outputs": [],
   "source": [
    "import numpy as np\n",
    "import torch\n",
    "import torch.nn as nn\n",
    "import torch.nn.functional as F \n",
    "from torch.utils.data import DataLoader, Dataset\n",
    "from torchvision import transforms\n",
    "from datetime import datetime"
   ]
  },
  {
   "cell_type": "markdown",
   "metadata": {},
   "source": [
    "### Importing the User Libraries"
   ]
  },
  {
   "cell_type": "code",
   "execution_count": 2,
   "metadata": {
    "cell_style": "center"
   },
   "outputs": [],
   "source": [
    "import Data\n",
    "import Logger\n",
    "import Trainer\n",
    "import Model"
   ]
  },
  {
   "cell_type": "markdown",
   "metadata": {},
   "source": [
    "### The Training Environment Variables (Users can change these please read the associated comment)"
   ]
  },
  {
   "cell_type": "markdown",
   "metadata": {},
   "source": [
    "#### General device and storage settings"
   ]
  },
  {
   "cell_type": "code",
   "execution_count": 3,
   "metadata": {
    "cell_style": "center"
   },
   "outputs": [],
   "source": [
    "device = \"cpu\" #Device to which the user needs the model and data to load\n",
    "\n",
    "PATH = \"/home/rishi/facebook/notes/template/checkpoints/\"  # Path to save the model & optimizer parameters during training\n",
    "\n",
    "Complete_log = \"./logs/Complete\"+str(datetime.now())+\".log\" # Path to save the complete log of training\n",
    "Summary_log = \"./logs/Summary\"+str(datetime.now())+\".log\"  # Path to save the Summary log of the epoch"
   ]
  },
  {
   "cell_type": "markdown",
   "metadata": {},
   "source": [
    "#### DataLoader and other data transforms"
   ]
  },
  {
   "cell_type": "code",
   "execution_count": 4,
   "metadata": {
    "cell_style": "center"
   },
   "outputs": [],
   "source": [
    "transform = transforms.Compose([transforms.Resize((128,128)),transforms.ToTensor()]) #give the transforms to be made on the image\n",
    "data_loader = Data.getData(transform=transform) # getting data with the dataloader\n",
    "batch_size = Data.getBatchSize() #edit the batch size in Data.py"
   ]
  },
  {
   "cell_type": "markdown",
   "metadata": {},
   "source": [
    "#### Train time variables and Hyperparameters"
   ]
  },
  {
   "cell_type": "code",
   "execution_count": 5,
   "metadata": {
    "cell_style": "center"
   },
   "outputs": [],
   "source": [
    "# the starting and ending range of the epoch\n",
    "start = 0 #need not modify this it is for during reloading the models from train state and the function takes care\n",
    "num_epochs = 5 # the number of epochs to run\n",
    "\n",
    "learning_rate = 0.0001 #learning rate\n",
    "\n",
    "model = Model.Model()\n",
    "    \n",
    "Criterion = nn.NLLLoss() # Choose the loss function \n",
    "Optimizer = torch.optim.SGD(model.parameters(), lr=learning_rate) #Choose the optimizer as well\n",
    "\n",
    "#TO LOAD FROM CHECKPOINT UNCOMMENT THIS\n",
    "#model, Optimizer, start, loss = Logger.continue_checkpoint() #check the doc string for use"
   ]
  },
  {
   "cell_type": "markdown",
   "metadata": {},
   "source": [
    "#### Train time variables (not to edit)"
   ]
  },
  {
   "cell_type": "code",
   "execution_count": 6,
   "metadata": {
    "cell_style": "center"
   },
   "outputs": [],
   "source": [
    "loss_history = {'train' : [], 'validate' : []}\n",
    "validation_accuracy = []\n",
    "best_accuracy = [0,0,0]"
   ]
  },
  {
   "cell_type": "markdown",
   "metadata": {},
   "source": [
    "### The main Training Loop"
   ]
  },
  {
   "cell_type": "code",
   "execution_count": 7,
   "metadata": {
    "cell_style": "center"
   },
   "outputs": [],
   "source": [
    "def main():\n",
    "    \n",
    "    global num_epochs, data_loader, batch_size, Criterion, Optimizer, loss_history, validation_accuracy, best_accuracy, device\n",
    "    \n",
    "    # creating and initiating the logs\n",
    "    handle = open(Complete_log,\"w+\") \n",
    "    handle.close()\n",
    "    handle = open(Summary_log,\"w+\")\n",
    "    handle.close()\n",
    "\n",
    "    \n",
    "    for epoch in range(start, num_epochs):\n",
    "        \n",
    "        loss_per_epoch = {\"train\" : [], \"validate\" : []}\n",
    "        accuracy = 0\n",
    "\n",
    "        for phase in ['train','validate']:\n",
    "\n",
    "            print(\"------------------------------IN \"+phase.capitalize()+\"------------------------------\")\n",
    "            length = 0\n",
    "            \n",
    "            for data in data_loader[phase] :\n",
    "\n",
    "                if phase == 'train':\n",
    "\n",
    "                    loss = Trainer.train(model, Optimizer, Criterion, data)\n",
    "                    loss_per_epoch['train'].append(loss)\n",
    "                                          \n",
    "                \n",
    "                if phase == 'validate':\n",
    "\n",
    "                    loss, acc = Trainer.validate(model, Criterion, data)\n",
    "                    loss_per_epoch['validate'].append(loss)\n",
    "                    accuracy+=acc     \n",
    "                    \n",
    "                \n",
    "                length +=  len(data[0])\n",
    "                Logger.print_train_progress(epoch, length, Data.getLength(phase), loss, phase, (accuracy/Data.getLength(phase)) *100 )\n",
    "                Logger.write_log(Complete_log, epoch, length, Data.getLength(phase), loss, phase, (accuracy/Data.getLength(phase)) *100)\n",
    "                \n",
    "        \n",
    "        accuracy = (accuracy/Data.getLength('validate')) * 100\n",
    "        validation_accuracy.append(accuracy)\n",
    "        loss_history['train'].append( np.mean(loss_per_epoch['train']) )\n",
    "        loss_history['validate'].append( np.mean(loss_per_epoch['validate']) )\n",
    "                \n",
    "        if all( accuracy >= x for x in best_accuracy) :\n",
    "            \n",
    "            print(\"accuracy : \", accuracy,\"\\t saving the model\")\n",
    "            best_accuracy.append(accuracy)\n",
    "            best_accuracy = sorted( best_accuracy, reverse=True )[:3]\n",
    "            \n",
    "            Logger.create_checkpoint( accuracy=accuracy, epoch=epoch, loss=loss, optimizer_state=Optimizer.state_dict(), model_state=model.state_dict(), device=device, chk_path=PATH)\n",
    "                          \n",
    "        log = open(Summary_log,\"a\")\n",
    "        print(\"==================================== EPOCH SUMMARY ====================================\")\n",
    "        print(\"EPOCH : {}\\nTRAIN LOSS : {:.3f}\\tVALID LOSS : {:.3f}\\tACCURACY : {:.4f}\".format(epoch, loss_history['train'][-1], loss_history['validate'][-1], accuracy))\n",
    "        print(\"=======================================================================================\")\n",
    "        log.write(\"EPOCH : {}\\nTRAIN LOSS : {:.3f}\\tVALID LOSS : {:.3f}\\tACCURACY : {:.4f}\\n\".format(epoch, loss_history['train'][-1], loss_history['validate'][-1], accuracy) )\n",
    "        log.close()"
   ]
  },
  {
   "cell_type": "code",
   "execution_count": null,
   "metadata": {},
   "outputs": [],
   "source": [
    "if __name__ == '__main__' :\n",
    "    main()\n",
    "    print(\"top accuracies : \", best_accuracy)"
   ]
  }
 ],
 "metadata": {
  "kernelspec": {
   "display_name": "Python 3",
   "language": "python",
   "name": "python3"
  },
  "language_info": {
   "codemirror_mode": {
    "name": "ipython",
    "version": 3
   },
   "file_extension": ".py",
   "mimetype": "text/x-python",
   "name": "python",
   "nbconvert_exporter": "python",
   "pygments_lexer": "ipython3",
   "version": "3.7.2"
  },
  "toc": {
   "base_numbering": 1,
   "nav_menu": {},
   "number_sections": false,
   "sideBar": true,
   "skip_h1_title": false,
   "title_cell": "Table of Contents",
   "title_sidebar": "Contents",
   "toc_cell": false,
   "toc_position": {},
   "toc_section_display": true,
   "toc_window_display": false
  },
  "varInspector": {
   "cols": {
    "lenName": 16,
    "lenType": 16,
    "lenVar": 40
   },
   "kernels_config": {
    "python": {
     "delete_cmd_postfix": "",
     "delete_cmd_prefix": "del ",
     "library": "var_list.py",
     "varRefreshCmd": "print(var_dic_list())"
    },
    "r": {
     "delete_cmd_postfix": ") ",
     "delete_cmd_prefix": "rm(",
     "library": "var_list.r",
     "varRefreshCmd": "cat(var_dic_list()) "
    }
   },
   "position": {
    "height": "144px",
    "left": "999px",
    "right": "20px",
    "top": "119px",
    "width": "350px"
   },
   "types_to_exclude": [
    "module",
    "function",
    "builtin_function_or_method",
    "instance",
    "_Feature"
   ],
   "window_display": false
  }
 },
 "nbformat": 4,
 "nbformat_minor": 2
}
